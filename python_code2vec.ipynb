{
 "cells": [
  {
   "cell_type": "code",
   "execution_count": 2,
   "metadata": {},
   "outputs": [],
   "source": [
    "import pickle\n",
    "import random \n",
    "import os\n",
    "import numpy as np\n",
    "import matplotlib.pyplot as plt\n",
    "%matplotlib inline "
   ]
  },
  {
   "cell_type": "code",
   "execution_count": null,
   "metadata": {},
   "outputs": [],
   "source": [
    "'''\n",
    "Epoch: 50 - Validation\n",
    "| Epoch: 50 |\n",
    "| Train Loss: 8.328 | Train Precision: 0.001 | Train Recall: 0.001 | Train F1: 0.001 | Train Acc: 0.13% |\n",
    "| Val. Loss: 16.218 | Val. Precision: 0.001 | Val. Recall: 0.001 | Val. F1: 0.001 | Val. Acc: 0.12% |\n",
    "128, 10\n",
    "Testing\n",
    "| Test Loss: 11.748 | Test Precision: 0.002 | Test Recall: 0.002 | Test F1: 0.002 | Test Acc: 0.24% |\n",
    "512, 5\n",
    "Testing\n",
    "| Test Loss: 11.962 | Test Precision: 0.003 | Test Recall: 0.003 | Test F1: 0.003 | Test Acc: 0.26% |\n",
    "1024, 3\n",
    "Testing\n",
    "| Test Loss: 12.032 | Test Precision: 0.002 | Test Recall: 0.002 | Test F1: 0.002 | Test Acc: 0.20% |\n",
    "\n",
    "'''"
   ]
  },
  {
   "cell_type": "markdown",
   "metadata": {},
   "source": [
    "# 1. Explore parsed data set "
   ]
  },
  {
   "cell_type": "code",
   "execution_count": 336,
   "metadata": {},
   "outputs": [
    {
     "name": "stdout",
     "output_type": "stream",
     "text": [
      "Data/data_numpy_pandas_sklearn/\n"
     ]
    }
   ],
   "source": [
    "DATA_DIR = 'Data/'\n",
    "DATASET = 'data_numpy_pandas_sklearn/'\n",
    "#DATASET = 'data_numpy/'\n",
    "#DATASET = 'data_small/'\n",
    "print(DATA_DIR + DATASET)"
   ]
  },
  {
   "cell_type": "code",
   "execution_count": 337,
   "metadata": {},
   "outputs": [],
   "source": [
    "with open(DATA_DIR + DATASET + 'parsed/dictionaries', 'rb') as file:\n",
    "    N_methods = pickle.load(file)\n",
    "    word_to_counts = pickle.load(file)\n",
    "    path_to_counts = pickle.load(file)\n",
    "    target_to_counts = pickle.load(file)\n",
    "    path_dictionary = pickle.load(file)\n",
    "    #contexts= pickle.load(file)"
   ]
  },
  {
   "cell_type": "code",
   "execution_count": 338,
   "metadata": {},
   "outputs": [],
   "source": [
    "methods = []\n",
    "with open(DATA_DIR + DATASET + 'parsed/methods', 'rb') as file:\n",
    "    for line in file:\n",
    "        methods.append(line.decode('utf-8', 'surrogatepass').strip('\\n').strip(' ').split(' '))"
   ]
  },
  {
   "cell_type": "code",
   "execution_count": 343,
   "metadata": {},
   "outputs": [],
   "source": [
    "train = []\n",
    "test = []\n",
    "validation = []\n",
    "with open(DATA_DIR + DATASET + 'split/train', 'rb') as file:\n",
    "    for line in file:\n",
    "        train.append(line.decode('utf-8', 'surrogatepass').strip('\\n').strip(' ').split(' '))\n",
    "with open(DATA_DIR + DATASET + 'split/test', 'rb') as file:\n",
    "    for line in file:\n",
    "        test.append(line.decode('utf-8', 'surrogatepass').strip('\\n').strip(' ').split(' '))\n",
    "with open(DATA_DIR + DATASET + 'split/validation', 'rb') as file:\n",
    "    for line in file:\n",
    "        validation.append(line.decode('utf-8', 'surrogatepass').strip('\\n').strip(' ').split(' '))"
   ]
  },
  {
   "cell_type": "code",
   "execution_count": 342,
   "metadata": {},
   "outputs": [
    {
     "name": "stdout",
     "output_type": "stream",
     "text": [
      "22215 2777 2777\n"
     ]
    }
   ],
   "source": [
    "print(len(train), len(test), len(validation))"
   ]
  },
  {
   "cell_type": "code",
   "execution_count": 341,
   "metadata": {},
   "outputs": [
    {
     "data": {
      "text/plain": [
       "27769"
      ]
     },
     "execution_count": 341,
     "metadata": {},
     "output_type": "execute_result"
    }
   ],
   "source": [
    "N_methods"
   ]
  },
  {
   "cell_type": "code",
   "execution_count": 327,
   "metadata": {},
   "outputs": [],
   "source": [
    "# methods == contexts"
   ]
  },
  {
   "cell_type": "code",
   "execution_count": 328,
   "metadata": {},
   "outputs": [
    {
     "data": {
      "text/plain": [
       "['tarball_name',\n",
       " 'ftype,-2091857736,gztar',\n",
       " 'ftype,1775339075,root',\n",
       " 'gztar,-213430978,root',\n",
       " 'gztar,582713598,numpy-%s',\n",
       " 'root,-2074781240,numpy-%s',\n",
       " 'None,674597601,root',\n",
       " 'None,-975917381,numpy-%s',\n",
       " 'numpy-%s,1693876507,FULLVERSION',\n",
       " 'FULLVERSION,-1203202347,None',\n",
       " 'None,649088354,ftype',\n",
       " 'FULLVERSION,-1731309895,ftype',\n",
       " 'None,2043661008,ftype',\n",
       " 'ftype,1714443454,gztar',\n",
       " 'gztar,-874160236,None',\n",
       " 'None,-1790038289,root',\n",
       " 'gztar,228929780,root',\n",
       " 'gztar,700109080,None',\n",
       " 'None,1944696651,root',\n",
       " 'root,-796648517,.tar.gz',\n",
       " '.tar.gz,-20142845,None',\n",
       " '.tar.gz,-1845718484,ftype',\n",
       " 'None,-196285107,.tar.gz',\n",
       " 'None,-964443952,ftype',\n",
       " 'ftype,1714443454,zip',\n",
       " 'None,1393063406,zip',\n",
       " 'None,-1130973885,root',\n",
       " 'zip,228929780,root',\n",
       " 'None,-1025533365,root',\n",
       " 'root,-796648517,.zip',\n",
       " 'None,1029102577,.zip',\n",
       " '.zip,-238708682,ValueError',\n",
       " 'ValueError,-1619267145,Unknowntype%s',\n",
       " 'None,1645106145,ValueError',\n",
       " 'None,1085311101,Unknowntype%s',\n",
       " 'Unknowntype%s,1693876507,type',\n",
       " 'None,-999824385,type']"
      ]
     },
     "execution_count": 328,
     "metadata": {},
     "output_type": "execute_result"
    }
   ],
   "source": [
    "methods[0]"
   ]
  },
  {
   "cell_type": "code",
   "execution_count": 202,
   "metadata": {},
   "outputs": [
    {
     "data": {
      "text/plain": [
       "'\\ud8ddfoo'"
      ]
     },
     "execution_count": 202,
     "metadata": {},
     "output_type": "execute_result"
    }
   ],
   "source": [
    "'\\ud8ddfoo'.replace('\\\\u', '\\\\u')"
   ]
  },
  {
   "cell_type": "code",
   "execution_count": 215,
   "metadata": {},
   "outputs": [
    {
     "data": {
      "text/plain": [
       "'\\ud800foo,1933286902,ser'"
      ]
     },
     "execution_count": 215,
     "metadata": {},
     "output_type": "execute_result"
    }
   ],
   "source": [
    "ss = '\\ud800foo,1933286902,ser'\n",
    "ss.encode('utf-8', 'surrogatepass').decode('utf-8', 'surrogatepass')"
   ]
  },
  {
   "cell_type": "code",
   "execution_count": 212,
   "metadata": {},
   "outputs": [
    {
     "data": {
      "text/plain": [
       "'sddfdf'"
      ]
     },
     "execution_count": 212,
     "metadata": {},
     "output_type": "execute_result"
    }
   ],
   "source": [
    "'sddfdf'.encode('utf-8', 'surrogatepass').decode('utf-8', 'surrogatepass')"
   ]
  },
  {
   "cell_type": "code",
   "execution_count": 199,
   "metadata": {},
   "outputs": [
    {
     "ename": "UnicodeEncodeError",
     "evalue": "'utf-8' codec can't encode character '\\ud800' in position 0: surrogates not allowed",
     "output_type": "error",
     "traceback": [
      "\u001b[0;31m---------------------------------------------------------------------------\u001b[0m",
      "\u001b[0;31mUnicodeEncodeError\u001b[0m                        Traceback (most recent call last)",
      "\u001b[0;32m<ipython-input-199-476cd31107a7>\u001b[0m in \u001b[0;36m<module>\u001b[0;34m\u001b[0m\n\u001b[0;32m----> 1\u001b[0;31m \u001b[0mss\u001b[0m\u001b[0;34m.\u001b[0m\u001b[0mencode\u001b[0m\u001b[0;34m(\u001b[0m\u001b[0;34m'utf-8'\u001b[0m\u001b[0;34m)\u001b[0m\u001b[0;34m\u001b[0m\u001b[0;34m\u001b[0m\u001b[0m\n\u001b[0m",
      "\u001b[0;31mUnicodeEncodeError\u001b[0m: 'utf-8' codec can't encode character '\\ud800' in position 0: surrogates not allowed"
     ]
    }
   ],
   "source": [
    "ss.encode('utf-8')"
   ]
  },
  {
   "cell_type": "code",
   "execution_count": 238,
   "metadata": {},
   "outputs": [],
   "source": [
    "with open('zhang.txt', 'wb') as file:\n",
    "    for id, line in enumerate(contexts):\n",
    "        for item in line:\n",
    "            #print(item)\n",
    "            file.write(item.encode('utf-8', 'surrogatepass') + ' '.encode('utf-8', 'surrogatepass'))\n",
    "        file.write('\\n'.encode('utf-8', 'surrogatepass'))"
   ]
  },
  {
   "cell_type": "code",
   "execution_count": 246,
   "metadata": {},
   "outputs": [],
   "source": [
    "methods = []\n",
    "with open('zhang.txt', 'rb') as file:\n",
    "    for line in file:\n",
    "        methods.append(line.decode('utf-8', 'surrogatepass').strip('\\n').strip(' ').split(' '))"
   ]
  },
  {
   "cell_type": "code",
   "execution_count": 247,
   "metadata": {},
   "outputs": [
    {
     "data": {
      "text/plain": [
       "['safe_remove',\n",
       " 'path,-1456136408,path',\n",
       " 'path,2100300876,None',\n",
       " 'path,-1696578410,None',\n",
       " 'path,1603370850,None',\n",
       " 'None,371816868,None',\n",
       " 'None,-73889772,os',\n",
       " 'None,605097742,os',\n",
       " 'None,-1951218462,path',\n",
       " 'os,371717944,path',\n",
       " 'os,-1968594705,OSError',\n",
       " 'path,2128612142,OSError',\n",
       " 'path,2128671924,None',\n",
       " 'OSError,-566086864,None']"
      ]
     },
     "execution_count": 247,
     "metadata": {},
     "output_type": "execute_result"
    }
   ],
   "source": [
    "methods[0]"
   ]
  },
  {
   "cell_type": "code",
   "execution_count": 248,
   "metadata": {},
   "outputs": [
    {
     "data": {
      "text/plain": [
       "True"
      ]
     },
     "execution_count": 248,
     "metadata": {},
     "output_type": "execute_result"
    }
   ],
   "source": [
    "contexts == methods"
   ]
  },
  {
   "cell_type": "code",
   "execution_count": 111,
   "metadata": {},
   "outputs": [],
   "source": [
    "with open('data3/parsed/dictionaries', 'rb') as file:\n",
    "    path_dictionary = pickle.load(file)\n",
    "    word_to_counts = pickle.load(file)\n",
    "    path_to_counts = pickle.load(file)\n",
    "    target_to_counts = pickle.load(file)\n",
    "    N_methods = pickle.load(file)\n",
    "    contexts= pickle.load(file)"
   ]
  },
  {
   "cell_type": "code",
   "execution_count": 112,
   "metadata": {},
   "outputs": [],
   "source": [
    "contexts_ = []\n",
    "with open('data3/parsed/methods', 'r') as file:\n",
    "    for line in file:\n",
    "        contexts_.append(line.rstrip('\\n').split(' '))"
   ]
  },
  {
   "cell_type": "code",
   "execution_count": 113,
   "metadata": {},
   "outputs": [],
   "source": [
    "for line in contexts:\n",
    "    for item in line[1:]:\n",
    "        if len(item.split(',')) !=3:\n",
    "            print (line)\n",
    "            print(line[0])"
   ]
  },
  {
   "cell_type": "code",
   "execution_count": 114,
   "metadata": {},
   "outputs": [
    {
     "data": {
      "text/plain": [
       "True"
      ]
     },
     "execution_count": 114,
     "metadata": {},
     "output_type": "execute_result"
    }
   ],
   "source": [
    "contexts == contexts_"
   ]
  },
  {
   "cell_type": "code",
   "execution_count": 112,
   "metadata": {},
   "outputs": [
    {
     "data": {
      "text/plain": [
       "27769"
      ]
     },
     "execution_count": 112,
     "metadata": {},
     "output_type": "execute_result"
    }
   ],
   "source": [
    "N_methods"
   ]
  },
  {
   "cell_type": "code",
   "execution_count": 126,
   "metadata": {},
   "outputs": [
    {
     "data": {
      "text/plain": [
       "2349"
      ]
     },
     "execution_count": 126,
     "metadata": {},
     "output_type": "execute_result"
    }
   ],
   "source": [
    "np.max([len(i)-1 for i in contexts])"
   ]
  },
  {
   "cell_type": "code",
   "execution_count": 113,
   "metadata": {},
   "outputs": [
    {
     "data": {
      "text/plain": [
       "217057"
      ]
     },
     "execution_count": 113,
     "metadata": {},
     "output_type": "execute_result"
    },
    {
     "data": {
      "image/png": "[encoded data removed]",
      "text/plain": [
       "<Figure size 432x288 with 1 Axes>"
      ]
     },
     "metadata": {
      "needs_background": "light"
     },
     "output_type": "display_data"
    }
   ],
   "source": [
    "# plt.hist(word_to_counts.values())\n",
    "plt.hist([np.log(i) for i in word_to_counts.values()])\n",
    "max(word_to_counts.values())"
   ]
  },
  {
   "cell_type": "code",
   "execution_count": 114,
   "metadata": {},
   "outputs": [
    {
     "data": {
      "text/plain": [
       "96991"
      ]
     },
     "execution_count": 114,
     "metadata": {},
     "output_type": "execute_result"
    },
    {
     "data": {
      "image/png": "[encoded data removed]",
      "text/plain": [
       "<Figure size 432x288 with 1 Axes>"
      ]
     },
     "metadata": {
      "needs_background": "light"
     },
     "output_type": "display_data"
    }
   ],
   "source": [
    "# plt.hist(path_to_counts.values())\n",
    "plt.hist([np.log(i) for i in path_to_counts.values()])\n",
    "max(path_to_counts.values())"
   ]
  },
  {
   "cell_type": "code",
   "execution_count": 115,
   "metadata": {
    "scrolled": true
   },
   "outputs": [
    {
     "data": {
      "text/plain": [
       "31"
      ]
     },
     "execution_count": 115,
     "metadata": {},
     "output_type": "execute_result"
    },
    {
     "data": {
      "image/png": "[encoded data removed]",
      "text/plain": [
       "<Figure size 432x288 with 1 Axes>"
      ]
     },
     "metadata": {
      "needs_background": "light"
     },
     "output_type": "display_data"
    }
   ],
   "source": [
    "plt.hist(target_to_counts.values())\n",
    "#plt.hist([np.log(i) for i in target_to_counts.values()])\n",
    "max(target_to_counts.values())"
   ]
  },
  {
   "cell_type": "code",
   "execution_count": 260,
   "metadata": {},
   "outputs": [],
   "source": [
    "with open('aa', 'ab') as file:\n",
    "    file.write('abc\\n'.encode('utf-8'))\n",
    "    "
   ]
  },
  {
   "cell_type": "markdown",
   "metadata": {},
   "source": [
    "# 3. split data "
   ]
  },
  {
   "cell_type": "code",
   "execution_count": 34,
   "metadata": {},
   "outputs": [],
   "source": [
    "# split into train, validate and test\n",
    "SEED = 1022\n",
    "random.seed(SEED)\n",
    "random.shuffle(contexts) \n",
    "train = contexts[0: int(len(contexts)*.6)]\n",
    "validation = contexts[int(len(contexts)*.6): int(len(contexts)*.8)]\n",
    "test = contexts[int(len(contexts)*.8): ]"
   ]
  },
  {
   "cell_type": "code",
   "execution_count": 50,
   "metadata": {},
   "outputs": [],
   "source": [
    "# write into files\n",
    "path_list = ['data/train.txt', 'data/test.txt', 'data/validation.txt']\n",
    "for path in path_list:\n",
    "    if os.path.exists(path): \n",
    "        os.remove(path)\n",
    "with open('data/train.txt', 'w') as file:\n",
    "    for item in train:\n",
    "        file.write(' '.join(item) + '\\n')\n",
    "with open('data/test.txt', 'w') as file:\n",
    "    for item in test:\n",
    "        file.write(' '.join(item) + '\\n')\n",
    "with open('data/validation.txt', 'w') as file:\n",
    "    for item in validation:\n",
    "        file.write(' '.join(item) + '\\n')"
   ]
  },
  {
   "cell_type": "code",
   "execution_count": 52,
   "metadata": {},
   "outputs": [],
   "source": [
    "# read train\n",
    "train = []\n",
    "with open('data/train.txt', 'r') as file:\n",
    "    for line in file:\n",
    "        train.append(line.rstrip('\\n').split(' '))"
   ]
  },
  {
   "cell_type": "code",
   "execution_count": 56,
   "metadata": {},
   "outputs": [],
   "source": [
    "# write into binary files \n",
    "with open('data/train', 'wb') as file:\n",
    "    pickle.dump(train, file)\n",
    "with open('data/test', 'wb') as file:\n",
    "    pickle.dump(test, file)\n",
    "with open('data/validation', 'wb') as file:\n",
    "    pickle.dump(validation, file)"
   ]
  },
  {
   "cell_type": "code",
   "execution_count": 57,
   "metadata": {},
   "outputs": [],
   "source": [
    "# read\n",
    "with open('data/train', 'rb') as file:\n",
    "    train = pickle.load(file)\n",
    "with open('data/test', 'rb') as file:\n",
    "    test = pickle.load(file)\n",
    "with open('data/validation', 'rb') as file:\n",
    "    validation = pickle.load(file)"
   ]
  },
  {
   "cell_type": "code",
   "execution_count": 315,
   "metadata": {},
   "outputs": [],
   "source": [
    "# with open('testfile.txt', 'w') as file:\n",
    "#     for line in list1:\n",
    "#         file.write('%s\\n' % line)"
   ]
  },
  {
   "cell_type": "code",
   "execution_count": 133,
   "metadata": {},
   "outputs": [],
   "source": [
    "x, *y = [2,1,2,3]"
   ]
  },
  {
   "cell_type": "code",
   "execution_count": 135,
   "metadata": {},
   "outputs": [
    {
     "data": {
      "text/plain": [
       "[1, 2, 3]"
      ]
     },
     "execution_count": 135,
     "metadata": {},
     "output_type": "execute_result"
    }
   ],
   "source": [
    "y"
   ]
  },
  {
   "cell_type": "markdown",
   "metadata": {},
   "source": [
    "# Code Embeddings"
   ]
  },
  {
   "cell_type": "code",
   "execution_count": 68,
   "metadata": {},
   "outputs": [],
   "source": [
    "from sklearn.neighbors import NearestNeighbors\n",
    "import numpy as np\n",
    "from random import sample"
   ]
  },
  {
   "cell_type": "code",
   "execution_count": 85,
   "metadata": {},
   "outputs": [],
   "source": [
    "# Embeddings trained on 15 examples, training accuracy 1, testing: 0.0385\n",
    "with open('../code2vec/IR_small', 'rb') as file:\n",
    "    vectors = pickle.load(file)"
   ]
  },
  {
   "cell_type": "code",
   "execution_count": 86,
   "metadata": {},
   "outputs": [],
   "source": [
    "with open('data3/split_small/train', 'rb') as file:\n",
    "    train = pickle.load(file)\n",
    "    n_train = pickle.load(file)"
   ]
  },
  {
   "cell_type": "code",
   "execution_count": 49,
   "metadata": {},
   "outputs": [],
   "source": [
    "label = [item[0] for item in train]"
   ]
  },
  {
   "cell_type": "code",
   "execution_count": 50,
   "metadata": {},
   "outputs": [
    {
     "data": {
      "text/plain": [
       "['trim',\n",
       " 'hermeder',\n",
       " 'hermroots',\n",
       " 'ABCPolyBase___pos__',\n",
       " 'TestMisc_test_leg2poly',\n",
       " 'TestCompanion_test_linear_root',\n",
       " 'TestMisc_test_herm2poly',\n",
       " 'TestEvaluation_test_hermval2d',\n",
       " 'TestMisc_test_chebtrim',\n",
       " 'lagsub',\n",
       " 'TestVander_test_lagvander3d',\n",
       " 'test_copy',\n",
       " '_cseries_to_zseries',\n",
       " 'TestConstants_test_polyzero',\n",
       " 'chebpts1']"
      ]
     },
     "execution_count": 50,
     "metadata": {},
     "output_type": "execute_result"
    }
   ],
   "source": [
    "label"
   ]
  },
  {
   "cell_type": "code",
   "execution_count": 52,
   "metadata": {},
   "outputs": [],
   "source": [
    "vectors = np.array(vectors)"
   ]
  },
  {
   "cell_type": "code",
   "execution_count": 53,
   "metadata": {},
   "outputs": [],
   "source": [
    "# find k-nn \n",
    "nbrs = NearestNeighbors(n_neighbors=3, algorithm='ball_tree').fit(vectors)\n",
    "distances, indices = nbrs.kneighbors(vectors)"
   ]
  },
  {
   "cell_type": "code",
   "execution_count": 57,
   "metadata": {},
   "outputs": [
    {
     "data": {
      "text/plain": [
       "array([[ 0,  2,  7],\n",
       "       [ 1, 14,  7],\n",
       "       [ 2,  5, 14],\n",
       "       [ 3, 14,  6],\n",
       "       [ 4,  6,  2],\n",
       "       [ 5,  2, 14],\n",
       "       [ 6,  4,  2],\n",
       "       [ 7, 14,  2],\n",
       "       [ 8,  5,  2],\n",
       "       [ 9,  2, 14],\n",
       "       [10,  7, 14],\n",
       "       [11,  5,  2],\n",
       "       [12,  2, 14],\n",
       "       [13,  2, 14],\n",
       "       [14,  2,  7]])"
      ]
     },
     "execution_count": 57,
     "metadata": {},
     "output_type": "execute_result"
    }
   ],
   "source": [
    "indices"
   ]
  },
  {
   "cell_type": "code",
   "execution_count": 58,
   "metadata": {},
   "outputs": [
    {
     "name": "stdout",
     "output_type": "stream",
     "text": [
      "trim\n",
      "hermroots\n",
      "TestEvaluation_test_hermval2d\n",
      "\n",
      "\n",
      "hermeder\n",
      "chebpts1\n",
      "TestEvaluation_test_hermval2d\n",
      "\n",
      "\n",
      "hermroots\n",
      "TestCompanion_test_linear_root\n",
      "chebpts1\n",
      "\n",
      "\n",
      "ABCPolyBase___pos__\n",
      "chebpts1\n",
      "TestMisc_test_herm2poly\n",
      "\n",
      "\n",
      "TestMisc_test_leg2poly\n",
      "TestMisc_test_herm2poly\n",
      "hermroots\n",
      "\n",
      "\n",
      "TestCompanion_test_linear_root\n",
      "hermroots\n",
      "chebpts1\n",
      "\n",
      "\n",
      "TestMisc_test_herm2poly\n",
      "TestMisc_test_leg2poly\n",
      "hermroots\n",
      "\n",
      "\n",
      "TestEvaluation_test_hermval2d\n",
      "chebpts1\n",
      "hermroots\n",
      "\n",
      "\n",
      "TestMisc_test_chebtrim\n",
      "TestCompanion_test_linear_root\n",
      "hermroots\n",
      "\n",
      "\n",
      "lagsub\n",
      "hermroots\n",
      "chebpts1\n",
      "\n",
      "\n",
      "TestVander_test_lagvander3d\n",
      "TestEvaluation_test_hermval2d\n",
      "chebpts1\n",
      "\n",
      "\n",
      "test_copy\n",
      "TestCompanion_test_linear_root\n",
      "hermroots\n",
      "\n",
      "\n",
      "_cseries_to_zseries\n",
      "hermroots\n",
      "chebpts1\n",
      "\n",
      "\n",
      "TestConstants_test_polyzero\n",
      "hermroots\n",
      "chebpts1\n",
      "\n",
      "\n",
      "chebpts1\n",
      "hermroots\n",
      "TestEvaluation_test_hermval2d\n",
      "\n",
      "\n"
     ]
    }
   ],
   "source": [
    "for row in indices:\n",
    "    for item in row:\n",
    "        print (label[item])\n",
    "    print('\\n')"
   ]
  },
  {
   "cell_type": "code",
   "execution_count": 94,
   "metadata": {},
   "outputs": [],
   "source": [
    "# Embeddings trained on 5030 examples, training accuracy:0.7545 , testing: 0.0394\n",
    "with open('../code2vec/IR', 'rb') as file:\n",
    "    vectors = pickle.load(file)\n",
    "with open('data2/split/train', 'rb') as file:\n",
    "    train = pickle.load(file)\n",
    "    n_train = pickle.load(file)\n",
    "label = [item[0] for item in train]"
   ]
  },
  {
   "cell_type": "code",
   "execution_count": 95,
   "metadata": {},
   "outputs": [
    {
     "data": {
      "text/plain": [
       "(5030, 128)"
      ]
     },
     "execution_count": 95,
     "metadata": {},
     "output_type": "execute_result"
    }
   ],
   "source": [
    "vectors.shape"
   ]
  },
  {
   "cell_type": "code",
   "execution_count": 96,
   "metadata": {},
   "outputs": [],
   "source": [
    "nbrs = NearestNeighbors(n_neighbors=3, algorithm='ball_tree').fit(vectors)"
   ]
  },
  {
   "cell_type": "code",
   "execution_count": 103,
   "metadata": {
    "scrolled": true
   },
   "outputs": [
    {
     "name": "stdout",
     "output_type": "stream",
     "text": [
      "TestLinearRamp_test_check_2d\n",
      "TestMultinomial_test_zero_probability\n",
      "TestMultinomial_test_zero_probability\n",
      "TestAsIntegerRatio_test_simple_fractions\n",
      "test_zeros\n",
      "RNG_test_uniform\n",
      "_savez\n",
      "TestRandomDist_test_poisson\n",
      "TestRandomDist_test_lognormal\n",
      "TestRandomDist_test_standard_exponential\n",
      "\n",
      "\n",
      "delete\n",
      "rate\n",
      "TestSizeSumExample_test_flatten\n",
      "_savez\n",
      "TestSizeSumExample_test_all\n",
      "TestResize_test_0d_shape\n",
      "TestIsnan_test_ind\n",
      "TestIsfinite_test_ind\n",
      "test_divmod\n",
      "TestArithmetic_test_chebdiv\n",
      "\n",
      "\n",
      "build_ext__add_dummy_mingwex_sym\n",
      "TestMedian_test_nan\n",
      "TestResize_test_0d_shape\n",
      "_savez\n",
      "RNG_test_exponential\n",
      "RNG_test_chisquare\n",
      "TestFancyIndexing_test_assign_mask\n",
      "put\n",
      "TestMaskedArrayFunctions_test_masked_where_condition\n",
      "_as_pairs\n",
      "\n",
      "\n",
      "TestLstsq_test_incompatible_dims\n",
      "TestPiecewise_test_0d_0d_condition\n",
      "TestArrayAlmostEqualNulp_test_float16_pass\n",
      "TestArrayAlmostEqualNulp_test_float16_fail\n",
      "TestArrayAlmostEqualNulp_test_float64_fail\n",
      "TestInner_test_inner_type_mismatch\n",
      "logspace\n",
      "legfit\n",
      "hermefit\n",
      "hermevander3d\n",
      "\n",
      "\n",
      "rel_path\n",
      "TestPickling_test_structured\n",
      "TestArithmetic_test_chebdiv\n",
      "TestMaskedArrayArithmetic_test_ne_on_structured\n",
      "TestResize_test_0d_shape\n",
      "TestArithmetic_test_hermediv\n",
      "load_hashes\n",
      "TestRegression_test_fortran_order_buffer\n",
      "TestConcatenator_test_mixed_type\n",
      "TestGrid_test_basic\n",
      "\n",
      "\n"
     ]
    }
   ],
   "source": [
    "subset = sample(range(0, n_train), 5)\n",
    "distances, indices = nbrs.kneighbors(vectors[subset,])\n",
    "for row in indices:\n",
    "    for item in row:\n",
    "        print (label[item])\n",
    "    print('\\n')"
   ]
  },
  {
   "cell_type": "code",
   "execution_count": null,
   "metadata": {},
   "outputs": [],
   "source": []
  }
 ],
 "metadata": {
  "kernelspec": {
   "display_name": "Python 3",
   "language": "python",
   "name": "python3"
  },
  "language_info": {
   "codemirror_mode": {
    "name": "ipython",
    "version": 3
   },
   "file_extension": ".py",
   "mimetype": "text/x-python",
   "name": "python",
   "nbconvert_exporter": "python",
   "pygments_lexer": "ipython3",
   "version": "3.7.3"
  }
 },
 "nbformat": 4,
 "nbformat_minor": 2
}
