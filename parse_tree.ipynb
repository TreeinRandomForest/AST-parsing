{
 "cells": [
  {
   "cell_type": "markdown",
   "metadata": {},
   "source": [
    "## 1. Parse code into an AST"
   ]
  },
  {
   "cell_type": "code",
   "execution_count": 217,
   "metadata": {},
   "outputs": [],
   "source": [
    "import ast\n",
    "\n",
    "with open('example.py', 'r') as source:\n",
    "    tree = ast.parse(source.read())"
   ]
  },
  {
   "cell_type": "code",
   "execution_count": 226,
   "metadata": {},
   "outputs": [],
   "source": [
    "f_str = \"def f(a,b): \\n\\\n",
    "\\tdef g():\\n\\\n",
    "\\t\\tprint('Hello world') \\n\\\n",
    "\\treturn a + b \\\n",
    "\"\n",
    "tree = ast.parse(f_str)"
   ]
  },
  {
   "cell_type": "markdown",
   "metadata": {},
   "source": [
    "## 2. Traverse an AST"
   ]
  },
  {
   "cell_type": "markdown",
   "metadata": {},
   "source": [
    "### 2.1 Visiting each node in the tree and print its type name"
   ]
  },
  {
   "cell_type": "code",
   "execution_count": 220,
   "metadata": {},
   "outputs": [],
   "source": [
    "# print all ast fields except None\n",
    "def print_tree_value(tree, level = 0): \n",
    "    if isinstance(tree, ast.AST):\n",
    "        print('-->'*(level), type(tree).__name__)\n",
    "    elif tree != None:\n",
    "        print('-->'*(level), tree, \"*\")\n",
    "        return\n",
    "    else:\n",
    "        return \n",
    "    #else: \n",
    "    #    print('-->'*(level), tree, \"*\")\n",
    "    #    return\n",
    "    level += 1\n",
    "    for child_name, child_obj in ast.iter_fields(tree):\n",
    "        if isinstance(child_obj, list):\n",
    "            for item in child_obj:\n",
    "                print_tree_value(item, level = level)\n",
    "        else:\n",
    "            print_tree_value(child_obj, level = level)\n",
    "    return         "
   ]
  },
  {
   "cell_type": "code",
   "execution_count": 221,
   "metadata": {},
   "outputs": [],
   "source": [
    "# print only the ast node type\n",
    "def print_tree(tree, level = 0): \n",
    "    if isinstance(tree, ast.AST):\n",
    "        print('-->'*(level), type(tree).__name__)\n",
    "    else: \n",
    "        print('-->'*(level), tree, \"*\")\n",
    "        return\n",
    "    level = level + 1\n",
    "    for child_obj in ast.iter_child_nodes(tree):\n",
    "        print_tree(child_obj, level = level)\n",
    "    return      "
   ]
  },
  {
   "cell_type": "code",
   "execution_count": null,
   "metadata": {},
   "outputs": [],
   "source": [
    "# def print_tree(tree, level = 0): \n",
    "#     level = level + 1\n",
    "#     for child_name, child_obj in ast.iter_fields(tree):\n",
    "#         if type(child_obj).__name__ == 'list':\n",
    "#             print('-->'*(level), type(child_obj[0]).__name__)\n",
    "#         else:\n",
    "#             print('-->'*(level), type(child_obj).__name__)\n",
    "#         #print('-->'*(level), type(child_obj).__name__)\n",
    "#         print('-->'*(level), child_name)\n",
    "#         try:\n",
    "#             print_tree(child_obj, level = level)\n",
    "#         except:\n",
    "#             try:\n",
    "#                 for node in child_obj:\n",
    "#                     print_tree(node, level = level)\n",
    "#             except:\n",
    "#                 print('-->'*(level + 1), child_obj, '*')    \n",
    "# # print all ast fields\n",
    "# def print_tree(tree, level = 0): \n",
    "#     if isinstance(tree, ast.AST):\n",
    "#         print('-->'*(level), type(tree).__name__)\n",
    "#     else: \n",
    "#         print('-->'*(level), tree, \"*\")\n",
    "#         return\n",
    "#     level = level + 1\n",
    "#     for child_name, child_obj in ast.iter_fields(tree):\n",
    "#         if isinstance(child_obj, list):\n",
    "#             for item in child_obj:\n",
    "#                 print_tree(item, level = level)\n",
    "#         else:\n",
    "#             print_tree(child_obj, level = level)\n",
    "#     return      "
   ]
  },
  {
   "cell_type": "markdown",
   "metadata": {},
   "source": [
    "#### Example 2.1.1 - parse code script and print ast"
   ]
  },
  {
   "cell_type": "code",
   "execution_count": 228,
   "metadata": {},
   "outputs": [
    {
     "name": "stdout",
     "output_type": "stream",
     "text": [
      " Module\n",
      "--> FunctionDef\n",
      "-->--> method_1 *\n",
      "-->--> arguments\n",
      "-->-->--> arg\n",
      "-->-->-->--> arg1 *\n",
      "-->-->--> arg\n",
      "-->-->-->--> arg2 *\n",
      "-->--> Assign\n",
      "-->-->--> Name\n",
      "-->-->-->--> add *\n",
      "-->-->-->--> Store\n",
      "-->-->--> BinOp\n",
      "-->-->-->--> Name\n",
      "-->-->-->-->--> arg1 *\n",
      "-->-->-->-->--> Load\n",
      "-->-->-->--> Add\n",
      "-->-->-->--> Name\n",
      "-->-->-->-->--> arg2 *\n",
      "-->-->-->-->--> Load\n",
      "-->--> Return\n",
      "-->-->--> Name\n",
      "-->-->-->--> add *\n",
      "-->-->-->--> Load\n",
      "--> FunctionDef\n",
      "-->--> method_2 *\n",
      "-->--> arguments\n",
      "-->-->--> arg\n",
      "-->-->-->--> n *\n",
      "-->-->--> arg\n",
      "-->-->-->--> arg2 *\n",
      "-->--> For\n",
      "-->-->--> Name\n",
      "-->-->-->--> i *\n",
      "-->-->-->--> Store\n",
      "-->-->--> Call\n",
      "-->-->-->--> Name\n",
      "-->-->-->-->--> range *\n",
      "-->-->-->-->--> Load\n",
      "-->-->-->--> Name\n",
      "-->-->-->-->--> n *\n",
      "-->-->-->-->--> Load\n",
      "-->-->--> If\n",
      "-->-->-->--> Compare\n",
      "-->-->-->-->--> Name\n",
      "-->-->-->-->-->--> i *\n",
      "-->-->-->-->-->--> Load\n",
      "-->-->-->-->--> Gt\n",
      "-->-->-->-->--> Name\n",
      "-->-->-->-->-->--> arg2 *\n",
      "-->-->-->-->-->--> Load\n",
      "-->-->-->--> Expr\n",
      "-->-->-->-->--> Call\n",
      "-->-->-->-->-->--> Name\n",
      "-->-->-->-->-->-->--> print *\n",
      "-->-->-->-->-->-->--> Load\n",
      "-->-->-->-->-->--> Str\n",
      "-->-->-->-->-->-->--> yes! *\n",
      "--> FunctionDef\n",
      "-->--> method_3 *\n",
      "-->--> arguments\n",
      "-->-->--> arg\n",
      "-->-->-->--> x *\n",
      "-->--> Expr\n",
      "-->-->--> Call\n",
      "-->-->-->--> Name\n",
      "-->-->-->-->--> print *\n",
      "-->-->-->-->--> Load\n",
      "-->-->-->--> Str\n",
      "-->-->-->-->--> hello! *\n",
      "--> ClassDef\n",
      "-->--> class_name_1 *\n",
      "-->--> Name\n",
      "-->-->--> object *\n",
      "-->-->--> Load\n",
      "-->--> Expr\n",
      "-->-->--> Str\n",
      "-->-->-->--> \n",
      "    A paragraph of descriptions...\n",
      "     *\n",
      "-->--> FunctionDef\n",
      "-->-->--> __init__ *\n",
      "-->-->--> arguments\n",
      "-->-->-->--> arg\n",
      "-->-->-->-->--> self *\n",
      "-->-->-->--> arg\n",
      "-->-->-->-->--> x *\n",
      "-->-->-->--> arg\n",
      "-->-->-->-->--> y *\n",
      "-->-->--> Expr\n",
      "-->-->-->--> Str\n",
      "-->-->-->-->--> \n",
      "        A paragraph of decriptions again...\n",
      "         *\n",
      "-->-->--> Assign\n",
      "-->-->-->--> Attribute\n",
      "-->-->-->-->--> Name\n",
      "-->-->-->-->-->--> self *\n",
      "-->-->-->-->-->--> Load\n",
      "-->-->-->-->--> x *\n",
      "-->-->-->-->--> Store\n",
      "-->-->-->--> Name\n",
      "-->-->-->-->--> x *\n",
      "-->-->-->-->--> Load\n",
      "-->-->--> Assign\n",
      "-->-->-->--> Attribute\n",
      "-->-->-->-->--> Name\n",
      "-->-->-->-->-->--> self *\n",
      "-->-->-->-->-->--> Load\n",
      "-->-->-->-->--> y *\n",
      "-->-->-->-->--> Store\n",
      "-->-->-->--> Name\n",
      "-->-->-->-->--> y *\n",
      "-->-->-->-->--> Load\n",
      " Module\n",
      "--> FunctionDef\n",
      "-->--> arguments\n",
      "-->-->--> arg\n",
      "-->-->--> arg\n",
      "-->--> Assign\n",
      "-->-->--> Name\n",
      "-->-->-->--> Store\n",
      "-->-->--> BinOp\n",
      "-->-->-->--> Name\n",
      "-->-->-->-->--> Load\n",
      "-->-->-->--> Add\n",
      "-->-->-->--> Name\n",
      "-->-->-->-->--> Load\n",
      "-->--> Return\n",
      "-->-->--> Name\n",
      "-->-->-->--> Load\n",
      "--> FunctionDef\n",
      "-->--> arguments\n",
      "-->-->--> arg\n",
      "-->-->--> arg\n",
      "-->--> For\n",
      "-->-->--> Name\n",
      "-->-->-->--> Store\n",
      "-->-->--> Call\n",
      "-->-->-->--> Name\n",
      "-->-->-->-->--> Load\n",
      "-->-->-->--> Name\n",
      "-->-->-->-->--> Load\n",
      "-->-->--> If\n",
      "-->-->-->--> Compare\n",
      "-->-->-->-->--> Name\n",
      "-->-->-->-->-->--> Load\n",
      "-->-->-->-->--> Gt\n",
      "-->-->-->-->--> Name\n",
      "-->-->-->-->-->--> Load\n",
      "-->-->-->--> Expr\n",
      "-->-->-->-->--> Call\n",
      "-->-->-->-->-->--> Name\n",
      "-->-->-->-->-->-->--> Load\n",
      "-->-->-->-->-->--> Str\n",
      "--> FunctionDef\n",
      "-->--> arguments\n",
      "-->-->--> arg\n",
      "-->--> Expr\n",
      "-->-->--> Call\n",
      "-->-->-->--> Name\n",
      "-->-->-->-->--> Load\n",
      "-->-->-->--> Str\n",
      "--> ClassDef\n",
      "-->--> Name\n",
      "-->-->--> Load\n",
      "-->--> Expr\n",
      "-->-->--> Str\n",
      "-->--> FunctionDef\n",
      "-->-->--> arguments\n",
      "-->-->-->--> arg\n",
      "-->-->-->--> arg\n",
      "-->-->-->--> arg\n",
      "-->-->--> Expr\n",
      "-->-->-->--> Str\n",
      "-->-->--> Assign\n",
      "-->-->-->--> Attribute\n",
      "-->-->-->-->--> Name\n",
      "-->-->-->-->-->--> Load\n",
      "-->-->-->-->--> Store\n",
      "-->-->-->--> Name\n",
      "-->-->-->-->--> Load\n",
      "-->-->--> Assign\n",
      "-->-->-->--> Attribute\n",
      "-->-->-->-->--> Name\n",
      "-->-->-->-->-->--> Load\n",
      "-->-->-->-->--> Store\n",
      "-->-->-->--> Name\n",
      "-->-->-->-->--> Load\n"
     ]
    }
   ],
   "source": [
    "with open('example.py', 'r') as source:\n",
    "    tree = ast.parse(source.read())\n",
    "print_tree_value(tree)\n",
    "print_tree(tree)"
   ]
  },
  {
   "cell_type": "markdown",
   "metadata": {},
   "source": [
    "#### Example 2.1.2 - parse code string and print ast"
   ]
  },
  {
   "cell_type": "code",
   "execution_count": 229,
   "metadata": {},
   "outputs": [
    {
     "name": "stdout",
     "output_type": "stream",
     "text": [
      " Module\n",
      "--> FunctionDef\n",
      "-->--> f *\n",
      "-->--> arguments\n",
      "-->-->--> arg\n",
      "-->-->-->--> a *\n",
      "-->-->--> arg\n",
      "-->-->-->--> b *\n",
      "-->--> FunctionDef\n",
      "-->-->--> g *\n",
      "-->-->--> arguments\n",
      "-->-->--> Expr\n",
      "-->-->-->--> Call\n",
      "-->-->-->-->--> Name\n",
      "-->-->-->-->-->--> print *\n",
      "-->-->-->-->-->--> Load\n",
      "-->-->-->-->--> Str\n",
      "-->-->-->-->-->--> Hello world *\n",
      "-->--> Return\n",
      "-->-->--> BinOp\n",
      "-->-->-->--> Name\n",
      "-->-->-->-->--> a *\n",
      "-->-->-->-->--> Load\n",
      "-->-->-->--> Add\n",
      "-->-->-->--> Name\n",
      "-->-->-->-->--> b *\n",
      "-->-->-->-->--> Load\n"
     ]
    }
   ],
   "source": [
    "f_str = \"def f(a,b): \\n\\\n",
    "\\tdef g():\\n\\\n",
    "\\t\\tprint('Hello world') \\n\\\n",
    "\\treturn a + b \\\n",
    "\"\n",
    "# f_str = \"a = 1 + 2\"\n",
    "tree = ast.parse(f_str)\n",
    "print_tree_value(tree)"
   ]
  },
  {
   "cell_type": "code",
   "execution_count": 230,
   "metadata": {},
   "outputs": [
    {
     "name": "stdout",
     "output_type": "stream",
     "text": [
      " Module\n",
      "--> FunctionDef\n",
      "-->--> arguments\n",
      "-->-->--> arg\n",
      "-->-->--> arg\n",
      "-->--> FunctionDef\n",
      "-->-->--> arguments\n",
      "-->-->--> Expr\n",
      "-->-->-->--> Call\n",
      "-->-->-->-->--> Name\n",
      "-->-->-->-->-->--> Load\n",
      "-->-->-->-->--> Str\n",
      "-->--> Return\n",
      "-->-->--> BinOp\n",
      "-->-->-->--> Name\n",
      "-->-->-->-->--> Load\n",
      "-->-->-->--> Add\n",
      "-->-->-->--> Name\n",
      "-->-->-->-->--> Load\n"
     ]
    }
   ],
   "source": [
    "print_tree(tree)"
   ]
  },
  {
   "cell_type": "markdown",
   "metadata": {},
   "source": [
    "### 2.2 Breadth-first Search "
   ]
  },
  {
   "cell_type": "code",
   "execution_count": 231,
   "metadata": {},
   "outputs": [],
   "source": [
    "def bfs(root):\n",
    "    '''tree -> don't need to store visited booleans\n",
    "    '''\n",
    "    nodes_seen = [root]\n",
    "    \n",
    "    current_visit_index = 0\n",
    "    N_nodes = 1\n",
    "    \n",
    "    while current_visit_index != N_nodes:\n",
    "        current_node = nodes_seen[current_visit_index]\n",
    "        current_visit_index += 1\n",
    "        \n",
    "        print(type(current_node).__name__)\n",
    "        \n",
    "        for child in ast.iter_child_nodes(current_node):\n",
    "            nodes_seen.append(child)\n",
    "            N_nodes += 1"
   ]
  },
  {
   "cell_type": "code",
   "execution_count": 232,
   "metadata": {},
   "outputs": [
    {
     "name": "stdout",
     "output_type": "stream",
     "text": [
      "Module\n",
      "FunctionDef\n",
      "arguments\n",
      "FunctionDef\n",
      "Return\n",
      "arg\n",
      "arg\n",
      "arguments\n",
      "Expr\n",
      "BinOp\n",
      "Call\n",
      "Name\n",
      "Add\n",
      "Name\n",
      "Name\n",
      "Str\n",
      "Load\n",
      "Load\n",
      "Load\n"
     ]
    }
   ],
   "source": [
    "bfs(tree)"
   ]
  },
  {
   "cell_type": "markdown",
   "metadata": {},
   "source": [
    "### 2.3 Depth-first Search"
   ]
  },
  {
   "cell_type": "code",
   "execution_count": 246,
   "metadata": {},
   "outputs": [],
   "source": [
    "def is_leaf_node(node):\n",
    "    child_nodes = [child for child in ast.iter_child_nodes(node)]\n",
    "    if not child_nodes:\n",
    "        return True\n",
    "    else:\n",
    "        return False\n",
    "# is_leaf_node(nodes_seen[11])\n",
    "\n",
    "def _dfs(current_node, nodes_seen, leaf_nodes_index_set, current_node_index=[-1], level = 1):\n",
    "    if current_node == None: return\n",
    "    nodes_seen.append(current_node)\n",
    "    current_node_index[0] += 1\n",
    "    \n",
    "    if is_leaf_node(current_node):\n",
    "        leaf_nodes_index_set.append(current_node_index[0])\n",
    "        \n",
    "    # print(current_node_index[0])\n",
    "    print('-->'*(level), type(current_node).__name__, current_node_index[0])\n",
    "    level += 1\n",
    "    \n",
    "    for child in ast.iter_child_nodes(current_node):\n",
    "        _dfs(child, nodes_seen, leaf_nodes_index_set, current_node_index, level)\n",
    "        \n",
    "def dfs(root):\n",
    "    nodes_seen = []\n",
    "    leaf_nodes_index_set = []\n",
    "    current_node_index = [-1]\n",
    "    _dfs(root, nodes_seen, leaf_nodes_index_set, current_node_index)\n",
    "    return nodes_seen, leaf_nodes_index_set"
   ]
  },
  {
   "cell_type": "code",
   "execution_count": null,
   "metadata": {},
   "outputs": [],
   "source": [
    "# def dfs(current_node, nodes_seen = [], current_node_index = -1):\n",
    "#     nodes_seen.append(current_node)\n",
    "#     current_node_index += 1\n",
    "#     if isinstance(current_node, ast.AST):\n",
    "#         print(type(current_node).__name__)\n",
    "#     else:\n",
    "#         print(current_node, \"*\")\n",
    "#     for child in ast.iter_child_nodes(current_node):\n",
    "#         dfs(child, nodes_seen)\n",
    "#     return nodes_seen \n",
    "\n",
    "# def dfs(tree, nodes_seen, leaf_nodes_index_set, current_node_index=[-1], level = 0): \n",
    "#     nodes_seen.append(current_node)\n",
    "#     current_node_index[0] += 1\n",
    "    \n",
    "#     if is_leaf_node(current_node):\n",
    "#         leaf_nodes_index_set.append(current_node_index[0])\n",
    "        \n",
    "#     print(current_node_index[0])\n",
    "#     print('-->'*(level), type(tree).__name__)\n",
    "#     level += 1\n",
    "    \n",
    "#     for child_obj in ast.iter_child_nodes(tree):\n",
    "#         dfs(child, nodes_seen, leaf_nodes_index_set, current_node_index, level)\n",
    "#     return   "
   ]
  },
  {
   "cell_type": "code",
   "execution_count": 247,
   "metadata": {},
   "outputs": [
    {
     "name": "stdout",
     "output_type": "stream",
     "text": [
      "--> Module 0\n",
      "-->--> FunctionDef 1\n",
      "-->-->--> arguments 2\n",
      "-->-->-->--> arg 3\n",
      "-->-->-->--> arg 4\n",
      "-->-->--> FunctionDef 5\n",
      "-->-->-->--> arguments 6\n",
      "-->-->-->--> Expr 7\n",
      "-->-->-->-->--> Call 8\n",
      "-->-->-->-->-->--> Name 9\n",
      "-->-->-->-->-->-->--> Load 10\n",
      "-->-->-->-->-->--> Str 11\n",
      "-->-->--> Return 12\n",
      "-->-->-->--> BinOp 13\n",
      "-->-->-->-->--> Name 14\n",
      "-->-->-->-->-->--> Load 15\n",
      "-->-->-->-->--> Add 16\n",
      "-->-->-->-->--> Name 17\n",
      "-->-->-->-->-->--> Load 18\n"
     ]
    }
   ],
   "source": [
    "nodes_seen, leaf_nodes_index_set = dfs(tree)"
   ]
  },
  {
   "cell_type": "code",
   "execution_count": 248,
   "metadata": {},
   "outputs": [
    {
     "data": {
      "text/plain": [
       "[<_ast.Module at 0x7f2850198240>,\n",
       " <_ast.FunctionDef at 0x7f2850198630>,\n",
       " <_ast.arguments at 0x7f2850198400>,\n",
       " <_ast.arg at 0x7f2850198320>,\n",
       " <_ast.arg at 0x7f2850198470>,\n",
       " <_ast.FunctionDef at 0x7f2850198208>,\n",
       " <_ast.arguments at 0x7f2850198588>,\n",
       " <_ast.Expr at 0x7f2850198668>,\n",
       " <_ast.Call at 0x7f2850198278>,\n",
       " <_ast.Name at 0x7f28501983c8>,\n",
       " <_ast.Load at 0x7f285682b4a8>,\n",
       " <_ast.Str at 0x7f28501984a8>,\n",
       " <_ast.Return at 0x7f2850198550>,\n",
       " <_ast.BinOp at 0x7f285018f470>,\n",
       " <_ast.Name at 0x7f285018fd30>,\n",
       " <_ast.Load at 0x7f285682b4a8>,\n",
       " <_ast.Add at 0x7f285682bd68>,\n",
       " <_ast.Name at 0x7f285018f780>,\n",
       " <_ast.Load at 0x7f285682b4a8>]"
      ]
     },
     "execution_count": 248,
     "metadata": {},
     "output_type": "execute_result"
    }
   ],
   "source": [
    "nodes_seen"
   ]
  },
  {
   "cell_type": "code",
   "execution_count": 249,
   "metadata": {},
   "outputs": [
    {
     "data": {
      "text/plain": [
       "[3, 4, 6, 10, 11, 15, 16, 18]"
      ]
     },
     "execution_count": 249,
     "metadata": {},
     "output_type": "execute_result"
    }
   ],
   "source": [
    "leaf_nodes_index_set"
   ]
  },
  {
   "cell_type": "markdown",
   "metadata": {},
   "source": [
    "### 2.4 Build-in traversal tools "
   ]
  },
  {
   "cell_type": "code",
   "execution_count": 533,
   "metadata": {},
   "outputs": [
    {
     "name": "stdout",
     "output_type": "stream",
     "text": [
      "Module(body=[FunctionDef(name='f', args=arguments(args=[arg(arg='a', annotation=None), arg(arg='b', annotation=None)], vararg=None, kwonlyargs=[], kw_defaults=[], kwarg=None, defaults=[]), body=[FunctionDef(name='g', args=arguments(args=[], vararg=None, kwonlyargs=[], kw_defaults=[], kwarg=None, defaults=[]), body=[Expr(value=Call(func=Name(id='print', ctx=Load()), args=[Str(s='Hello world')], keywords=[]))], decorator_list=[], returns=None), Return(value=BinOp(left=Name(id='a', ctx=Load()), op=Add(), right=Name(id='b', ctx=Load())))], decorator_list=[], returns=None)])\n"
     ]
    }
   ],
   "source": [
    "print(ast.dump(tree))"
   ]
  },
  {
   "cell_type": "code",
   "execution_count": 241,
   "metadata": {},
   "outputs": [
    {
     "name": "stdout",
     "output_type": "stream",
     "text": [
      "Module\n",
      "('body',)\n",
      "FunctionDef\n",
      "('name', 'args', 'body', 'decorator_list', 'returns')\n",
      "arguments\n",
      "('args', 'vararg', 'kwonlyargs', 'kw_defaults', 'kwarg', 'defaults')\n",
      "arg\n",
      "('arg', 'annotation')\n",
      "arg\n",
      "('arg', 'annotation')\n",
      "FunctionDef\n",
      "('name', 'args', 'body', 'decorator_list', 'returns')\n",
      "arguments\n",
      "('args', 'vararg', 'kwonlyargs', 'kw_defaults', 'kwarg', 'defaults')\n",
      "Expr\n",
      "('value',)\n",
      "Call\n",
      "('func', 'args', 'keywords')\n",
      "Name\n",
      "('id', 'ctx')\n",
      "Load\n",
      "()\n",
      "Str\n",
      "('s',)\n",
      "Return\n",
      "('value',)\n",
      "BinOp\n",
      "('left', 'op', 'right')\n",
      "Name\n",
      "('id', 'ctx')\n",
      "Load\n",
      "()\n",
      "Add\n",
      "()\n",
      "Name\n",
      "('id', 'ctx')\n",
      "Load\n",
      "()\n"
     ]
    }
   ],
   "source": [
    "class C(ast.NodeVisitor):\n",
    "    def generic_visit(self, node):\n",
    "        print (type(node).__name__)\n",
    "        print (type(node)._fields)\n",
    "        ast.NodeVisitor.generic_visit(self, node)\n",
    "        # self.generic_visit(node)\n",
    "\n",
    "visitor = C()\n",
    "visitor.visit(tree)"
   ]
  },
  {
   "cell_type": "code",
   "execution_count": 243,
   "metadata": {},
   "outputs": [
    {
     "name": "stdout",
     "output_type": "stream",
     "text": [
      "f\n",
      "g\n"
     ]
    }
   ],
   "source": [
    "for node in ast.walk(tree):\n",
    "    if isinstance(node, ast.FunctionDef):\n",
    "        print(node.name)"
   ]
  },
  {
   "cell_type": "code",
   "execution_count": 245,
   "metadata": {},
   "outputs": [
    {
     "data": {
      "text/plain": [
       "True"
      ]
     },
     "execution_count": 245,
     "metadata": {},
     "output_type": "execute_result"
    }
   ],
   "source": [
    "((tree.body)[0].args).args[0].arg\n",
    "type(tree).__name__\n",
    "isinstance(tree, ast.AST)"
   ]
  },
  {
   "cell_type": "markdown",
   "metadata": {},
   "source": [
    "## 4. Extract path-contexts from an AST"
   ]
  },
  {
   "cell_type": "code",
   "execution_count": 253,
   "metadata": {},
   "outputs": [],
   "source": [
    "# However, we'd like to ignore nodes of type: Load, Store, Del\n",
    "IGNORE_TYPES = ['Load', 'Store', 'Del']\n",
    "\n",
    "def is_leaf_node(node):\n",
    "    child_nodes = [child for child in ast.iter_child_nodes(node) if type(child).__name__ not in IGNORE_TYPES]\n",
    "    if not child_nodes:\n",
    "        return True\n",
    "    else:\n",
    "        return False\n",
    "# is_leaf_node(nodes_seen[11])\n",
    "\n",
    "def _dfs(current_node, nodes_seen, leaf_nodes_index_set, current_node_index=[-1], level = 1):\n",
    "    if current_node == None: return\n",
    "    if type(current_node).__name__ not in IGNORE_TYPES: \n",
    "        nodes_seen.append(current_node)\n",
    "        current_node_index[0] += 1\n",
    "\n",
    "        if is_leaf_node(current_node):\n",
    "            leaf_nodes_index_set.append(current_node_index[0])\n",
    "\n",
    "        # print(current_node_index[0])\n",
    "        print('-->'*(level), type(current_node).__name__, current_node_index[0])\n",
    "        level += 1\n",
    "\n",
    "        for child in ast.iter_child_nodes(current_node):\n",
    "            _dfs(child, nodes_seen, leaf_nodes_index_set, current_node_index, level)\n",
    "        \n",
    "def dfs(root):\n",
    "    nodes_seen = []\n",
    "    leaf_nodes_index_set = []\n",
    "    current_node_index = [-1]\n",
    "    _dfs(root, nodes_seen, leaf_nodes_index_set, current_node_index)\n",
    "    return nodes_seen, leaf_nodes_index_set\n"
   ]
  },
  {
   "cell_type": "code",
   "execution_count": 254,
   "metadata": {},
   "outputs": [
    {
     "data": {
      "text/plain": [
       "True"
      ]
     },
     "execution_count": 254,
     "metadata": {},
     "output_type": "execute_result"
    }
   ],
   "source": [
    "type(nodes_seen[10]).__name__ in IGNORE_TYPES"
   ]
  },
  {
   "cell_type": "code",
   "execution_count": 255,
   "metadata": {},
   "outputs": [
    {
     "name": "stdout",
     "output_type": "stream",
     "text": [
      "--> Module 0\n",
      "-->--> FunctionDef 1\n",
      "-->-->--> arguments 2\n",
      "-->-->-->--> arg 3\n",
      "-->-->-->--> arg 4\n",
      "-->-->--> FunctionDef 5\n",
      "-->-->-->--> arguments 6\n",
      "-->-->-->--> Expr 7\n",
      "-->-->-->-->--> Call 8\n",
      "-->-->-->-->-->--> Name 9\n",
      "-->-->-->-->-->--> Str 10\n",
      "-->-->--> Return 11\n",
      "-->-->-->--> BinOp 12\n",
      "-->-->-->-->--> Name 13\n",
      "-->-->-->-->--> Add 14\n",
      "-->-->-->-->--> Name 15\n"
     ]
    }
   ],
   "source": [
    "nodes_seen, leaf_nodes_index_set = dfs(tree)"
   ]
  },
  {
   "cell_type": "code",
   "execution_count": 256,
   "metadata": {},
   "outputs": [
    {
     "data": {
      "text/plain": [
       "[<_ast.Module at 0x7f2850198240>,\n",
       " <_ast.FunctionDef at 0x7f2850198630>,\n",
       " <_ast.arguments at 0x7f2850198400>,\n",
       " <_ast.arg at 0x7f2850198320>,\n",
       " <_ast.arg at 0x7f2850198470>,\n",
       " <_ast.FunctionDef at 0x7f2850198208>,\n",
       " <_ast.arguments at 0x7f2850198588>,\n",
       " <_ast.Expr at 0x7f2850198668>,\n",
       " <_ast.Call at 0x7f2850198278>,\n",
       " <_ast.Name at 0x7f28501983c8>,\n",
       " <_ast.Str at 0x7f28501984a8>,\n",
       " <_ast.Return at 0x7f2850198550>,\n",
       " <_ast.BinOp at 0x7f285018f470>,\n",
       " <_ast.Name at 0x7f285018fd30>,\n",
       " <_ast.Add at 0x7f285682bd68>,\n",
       " <_ast.Name at 0x7f285018f780>]"
      ]
     },
     "execution_count": 256,
     "metadata": {},
     "output_type": "execute_result"
    }
   ],
   "source": [
    "nodes_seen"
   ]
  },
  {
   "cell_type": "code",
   "execution_count": 257,
   "metadata": {},
   "outputs": [
    {
     "data": {
      "text/plain": [
       "[3, 4, 6, 9, 10, 13, 14, 15]"
      ]
     },
     "execution_count": 257,
     "metadata": {},
     "output_type": "execute_result"
    }
   ],
   "source": [
    "leaf_nodes_index_set"
   ]
  },
  {
   "cell_type": "code",
   "execution_count": 260,
   "metadata": {
    "scrolled": true
   },
   "outputs": [],
   "source": [
    "# get value stored in the leaf node\n",
    "def get_value(node):\n",
    "    for name, value in ast.iter_fields(node):\n",
    "        if value is not None:\n",
    "            return(value)"
   ]
  },
  {
   "cell_type": "code",
   "execution_count": 261,
   "metadata": {},
   "outputs": [
    {
     "name": "stdout",
     "output_type": "stream",
     "text": [
      "[]\n",
      "b\n"
     ]
    }
   ],
   "source": [
    "node1 = nodes_seen[6]\n",
    "node2 = nodes_seen[15]\n",
    "print(get_value(node1))\n",
    "print(get_value(node2))"
   ]
  },
  {
   "cell_type": "code",
   "execution_count": 262,
   "metadata": {},
   "outputs": [],
   "source": [
    "# find lowest common ancestor of two given nodes in the tree\n",
    "def find_lca(root, node1, node2):\n",
    "    if root == None: return None\n",
    "    if root == node1 or root == node2: return root\n",
    "    \n",
    "    # look for lca in all subtrees \n",
    "    lca_list = []\n",
    "    for child_node in ast.iter_child_nodes(root):\n",
    "        if child_node not in IGNORE_TYPES:\n",
    "            lca_list.append(find_lca(child_node, node1, node2))\n",
    "            \n",
    "    # Remove None in the list \n",
    "    lca_list = [i for i in lca_list if i != None]\n",
    "    # print('for node:', type(root).__name__)\n",
    "    # print(lca_list)\n",
    "    \n",
    "    # If two of the above calls returns non-None, then two nodes are present in separate subtree\n",
    "    if len(lca_list) == 2:\n",
    "        return root\n",
    "    # If above calls return one non-None, then two nodes exit in one subtree\n",
    "    if len(lca_list) == 1:\n",
    "        return lca_list[0]\n",
    "    return None"
   ]
  },
  {
   "cell_type": "code",
   "execution_count": 264,
   "metadata": {},
   "outputs": [
    {
     "data": {
      "text/plain": [
       "<_ast.FunctionDef at 0x7f2850198630>"
      ]
     },
     "execution_count": 264,
     "metadata": {},
     "output_type": "execute_result"
    }
   ],
   "source": [
    "aa = find_lca(tree, node1, node2)\n",
    "aa"
   ]
  },
  {
   "cell_type": "code",
   "execution_count": 265,
   "metadata": {},
   "outputs": [],
   "source": [
    "# extract path between two leaf nodes, given the lowest common parents\n",
    "def extract_path(root, node1, node2):\n",
    "    if root == None: return None \n",
    "    if root == node1 or root == node2: return type(root).__name__\n",
    "    \n",
    "    # look for lca in all subtrees \n",
    "    lca_list = []\n",
    "    for child_node in ast.iter_child_nodes(root):\n",
    "        if child_node not in IGNORE_TYPES:\n",
    "            lca_list.append(extract_path(child_node, node1, node2))\n",
    "            \n",
    "    # Remove None in the list \n",
    "    lca_list = [i for i in lca_list if i != None]\n",
    "    # print('for node:', type(root).__name__)\n",
    "    # print(lca_list)\n",
    "    \n",
    "    # If two of the above calls returns non-None, then two nodes are present in separate subtree\n",
    "    if len(lca_list) == 2:\n",
    "        first_str = '_'.join(lca_list[0].replace('DOWN', 'UP').split('_')[::-1])\n",
    "        return first_str + '_UP_' + type(root).__name__ + '_DOWN_' + lca_list[1]\n",
    "    # If above calls return one non-None, then two nodes exit in one subtree\n",
    "    if len(lca_list) == 1:\n",
    "            return type(root).__name__ + '_DOWN_' + lca_list[0]\n",
    "    return None"
   ]
  },
  {
   "cell_type": "code",
   "execution_count": 266,
   "metadata": {
    "scrolled": true
   },
   "outputs": [
    {
     "data": {
      "text/plain": [
       "'arguments_UP_FunctionDef_UP_FunctionDef_DOWN_Return_DOWN_BinOp_DOWN_Name'"
      ]
     },
     "execution_count": 266,
     "metadata": {},
     "output_type": "execute_result"
    }
   ],
   "source": [
    "path = extract_path(aa, node1, node2)\n",
    "path"
   ]
  },
  {
   "cell_type": "code",
   "execution_count": 267,
   "metadata": {
    "scrolled": true
   },
   "outputs": [],
   "source": [
    "# get path context for each pair of terminal nodes\n",
    "N_nodes = len(nodes_seen)\n",
    "N_leaf = len(leaf_nodes_index_set)\n",
    "bag_of_path_context = []\n",
    "for i in range(N_leaf):\n",
    "    for j in range(i+1, N_leaf):\n",
    "        node1 = nodes_seen[leaf_nodes_index_set[i]]\n",
    "        node2 = nodes_seen[leaf_nodes_index_set[j]]\n",
    "        lcp = find_lca(tree, node1, node2)\n",
    "        path = extract_path(lcp, node1, node2)\n",
    "        value1 = get_value(node1)\n",
    "        value2 = get_value(node2)\n",
    "        if path.split('_')[0] == type(node1).__name__:\n",
    "            path_context = ','.join([str(value1), path, str(value2)])\n",
    "        else:\n",
    "            path_context = ','.join([str(value2), path, str(value1)])\n",
    "        bag_of_path_context.append(path_context)"
   ]
  },
  {
   "cell_type": "code",
   "execution_count": 268,
   "metadata": {},
   "outputs": [
    {
     "data": {
      "text/plain": [
       "['a,arg_UP_arguments_DOWN_arg,b',\n",
       " 'a,arg_UP_arguments_UP_FunctionDef_DOWN_FunctionDef_DOWN_arguments,[]',\n",
       " 'a,arg_UP_arguments_UP_FunctionDef_DOWN_FunctionDef_DOWN_Expr_DOWN_Call_DOWN_Name,print',\n",
       " 'a,arg_UP_arguments_UP_FunctionDef_DOWN_FunctionDef_DOWN_Expr_DOWN_Call_DOWN_Str,Hello world',\n",
       " 'a,arg_UP_arguments_UP_FunctionDef_DOWN_Return_DOWN_BinOp_DOWN_Name,a',\n",
       " 'a,arg_UP_arguments_UP_FunctionDef_DOWN_Return_DOWN_BinOp_DOWN_Add,None',\n",
       " 'a,arg_UP_arguments_UP_FunctionDef_DOWN_Return_DOWN_BinOp_DOWN_Name,b',\n",
       " 'b,arg_UP_arguments_UP_FunctionDef_DOWN_FunctionDef_DOWN_arguments,[]',\n",
       " 'b,arg_UP_arguments_UP_FunctionDef_DOWN_FunctionDef_DOWN_Expr_DOWN_Call_DOWN_Name,print',\n",
       " 'b,arg_UP_arguments_UP_FunctionDef_DOWN_FunctionDef_DOWN_Expr_DOWN_Call_DOWN_Str,Hello world',\n",
       " 'b,arg_UP_arguments_UP_FunctionDef_DOWN_Return_DOWN_BinOp_DOWN_Name,a',\n",
       " 'b,arg_UP_arguments_UP_FunctionDef_DOWN_Return_DOWN_BinOp_DOWN_Add,None',\n",
       " 'b,arg_UP_arguments_UP_FunctionDef_DOWN_Return_DOWN_BinOp_DOWN_Name,b',\n",
       " '[],arguments_UP_FunctionDef_DOWN_Expr_DOWN_Call_DOWN_Name,print',\n",
       " '[],arguments_UP_FunctionDef_DOWN_Expr_DOWN_Call_DOWN_Str,Hello world',\n",
       " '[],arguments_UP_FunctionDef_UP_FunctionDef_DOWN_Return_DOWN_BinOp_DOWN_Name,a',\n",
       " '[],arguments_UP_FunctionDef_UP_FunctionDef_DOWN_Return_DOWN_BinOp_DOWN_Add,None',\n",
       " '[],arguments_UP_FunctionDef_UP_FunctionDef_DOWN_Return_DOWN_BinOp_DOWN_Name,b',\n",
       " 'print,Name_UP_Call_DOWN_Str,Hello world',\n",
       " 'print,Name_UP_Call_UP_Expr_UP_FunctionDef_UP_FunctionDef_DOWN_Return_DOWN_BinOp_DOWN_Name,a',\n",
       " 'print,Name_UP_Call_UP_Expr_UP_FunctionDef_UP_FunctionDef_DOWN_Return_DOWN_BinOp_DOWN_Add,None',\n",
       " 'print,Name_UP_Call_UP_Expr_UP_FunctionDef_UP_FunctionDef_DOWN_Return_DOWN_BinOp_DOWN_Name,b',\n",
       " 'Hello world,Str_UP_Call_UP_Expr_UP_FunctionDef_UP_FunctionDef_DOWN_Return_DOWN_BinOp_DOWN_Name,a',\n",
       " 'Hello world,Str_UP_Call_UP_Expr_UP_FunctionDef_UP_FunctionDef_DOWN_Return_DOWN_BinOp_DOWN_Add,None',\n",
       " 'Hello world,Str_UP_Call_UP_Expr_UP_FunctionDef_UP_FunctionDef_DOWN_Return_DOWN_BinOp_DOWN_Name,b',\n",
       " 'a,Name_UP_BinOp_DOWN_Add,None',\n",
       " 'a,Name_UP_BinOp_DOWN_Name,b',\n",
       " 'None,Add_UP_BinOp_DOWN_Name,b']"
      ]
     },
     "execution_count": 268,
     "metadata": {},
     "output_type": "execute_result"
    }
   ],
   "source": [
    "bag_of_path_context"
   ]
  },
  {
   "cell_type": "code",
   "execution_count": null,
   "metadata": {},
   "outputs": [],
   "source": []
  },
  {
   "cell_type": "code",
   "execution_count": null,
   "metadata": {},
   "outputs": [],
   "source": []
  },
  {
   "cell_type": "code",
   "execution_count": 16,
   "metadata": {},
   "outputs": [],
   "source": []
  },
  {
   "cell_type": "code",
   "execution_count": null,
   "metadata": {},
   "outputs": [],
   "source": []
  },
  {
   "cell_type": "markdown",
   "metadata": {},
   "source": [
    "## Clean docstring"
   ]
  },
  {
   "cell_type": "code",
   "execution_count": 237,
   "metadata": {},
   "outputs": [
    {
     "name": "stdout",
     "output_type": "stream",
     "text": [
      "def method_1(arg1, arg2):\n",
      "    add = arg1 + arg2\n",
      "    return add\n",
      "\n",
      "def method_2(n, arg2):\n",
      "    for i in range(n):\n",
      "        if i > arg2: \n",
      "            print('yes!')\n",
      "    \n",
      "def method_3(x):\n",
      "    # comments\n",
      "    print('hello!')\n",
      "    \n",
      "class class_name_1(object):\n",
      "    '''\n",
      "    A paragraph of descriptions...\n",
      "    '''\n",
      "    def __init__(self, x, y):\n",
      "        '''\n",
      "        A paragraph of decriptions again...\n",
      "        '''\n",
      "        self.x = x\n",
      "        self.y = y\n",
      "    \n"
     ]
    }
   ],
   "source": [
    "import inspect\n",
    "with open('example.py', 'r') as source:\n",
    "    aa = inspect.cleandoc(source.read())\n",
    "    print(aa)"
   ]
  }
 ],
 "metadata": {
  "kernelspec": {
   "display_name": "Python 3",
   "language": "python",
   "name": "python3"
  },
  "language_info": {
   "codemirror_mode": {
    "name": "ipython",
    "version": 3
   },
   "file_extension": ".py",
   "mimetype": "text/x-python",
   "name": "python",
   "nbconvert_exporter": "python",
   "pygments_lexer": "ipython3",
   "version": "3.7.3"
  }
 },
 "nbformat": 4,
 "nbformat_minor": 2
}
