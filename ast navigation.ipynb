{
 "cells": [
  {
   "cell_type": "code",
   "execution_count": 1,
   "metadata": {},
   "outputs": [],
   "source": [
    "import ast"
   ]
  },
  {
   "cell_type": "code",
   "execution_count": 177,
   "metadata": {},
   "outputs": [],
   "source": [
    "import matplotlib.pylab as plt\n",
    "%matplotlib inline"
   ]
  },
  {
   "cell_type": "code",
   "execution_count": 219,
   "metadata": {},
   "outputs": [],
   "source": [
    "import networkx as nx\n",
    "from networkx.drawing.nx_agraph import write_dot, graphviz_layout"
   ]
  },
  {
   "cell_type": "markdown",
   "metadata": {},
   "source": [
    "# Using ast.parse"
   ]
  },
  {
   "cell_type": "markdown",
   "metadata": {},
   "source": [
    "## Effect of different modes"
   ]
  },
  {
   "cell_type": "code",
   "execution_count": 13,
   "metadata": {},
   "outputs": [],
   "source": [
    "stmt_str = \"4 + 5 / 3\""
   ]
  },
  {
   "cell_type": "code",
   "execution_count": 15,
   "metadata": {},
   "outputs": [],
   "source": [
    "tree_exec = ast.parse(stmt_str, filename=\"<unknown>\", mode=\"exec\")\n",
    "tree_eval = ast.parse(stmt_str, filename=\"<unknown>\", mode=\"eval\")\n",
    "tree_single = ast.parse(stmt_str, filename=\"<unknown>\", mode=\"single\")"
   ]
  },
  {
   "cell_type": "code",
   "execution_count": 19,
   "metadata": {},
   "outputs": [
    {
     "name": "stdout",
     "output_type": "stream",
     "text": [
      "<_ast.Module object at 0x7fd8b57f73c8>\n",
      "[<_ast.Expr object at 0x7fd8b57f7198>]\n"
     ]
    }
   ],
   "source": [
    "print(tree_exec)\n",
    "print(tree_exec.body)"
   ]
  },
  {
   "cell_type": "code",
   "execution_count": 20,
   "metadata": {},
   "outputs": [
    {
     "name": "stdout",
     "output_type": "stream",
     "text": [
      "<_ast.Expression object at 0x7fd8b57f7358>\n",
      "<_ast.BinOp object at 0x7fd8b57f7860>\n"
     ]
    }
   ],
   "source": [
    "print(tree_eval)\n",
    "print(tree_eval.body)"
   ]
  },
  {
   "cell_type": "code",
   "execution_count": 21,
   "metadata": {},
   "outputs": [
    {
     "name": "stdout",
     "output_type": "stream",
     "text": [
      "<_ast.Interactive object at 0x7fd8b57f7668>\n",
      "[<_ast.Expr object at 0x7fd8b57f7518>]\n"
     ]
    }
   ],
   "source": [
    "print(tree_single)\n",
    "print(tree_single.body)"
   ]
  },
  {
   "cell_type": "markdown",
   "metadata": {},
   "source": [
    "### programmatically introducing nodes requires fixing col_offset and lineno for each node\n",
    "\n",
    "use\n",
    "\n",
    "ast.fix_missing_locations()\n",
    "\n",
    "ast.copy_location()\n",
    "\n",
    "ast.increment_lineno()"
   ]
  },
  {
   "cell_type": "markdown",
   "metadata": {},
   "source": [
    "### for bytecode -> ast -> source code (inverse transformations), see\n",
    "\n",
    "astor\n",
    "\n",
    "Meta\n",
    "\n",
    "uncompyle6"
   ]
  },
  {
   "cell_type": "markdown",
   "metadata": {},
   "source": [
    "# Node Types"
   ]
  },
  {
   "cell_type": "code",
   "execution_count": 29,
   "metadata": {},
   "outputs": [
    {
     "data": {
      "text/plain": [
       "<_ast.Num at 0x7fd8b5760470>"
      ]
     },
     "execution_count": 29,
     "metadata": {},
     "output_type": "execute_result"
    }
   ],
   "source": [
    "ast.Num(4)"
   ]
  },
  {
   "cell_type": "code",
   "execution_count": 32,
   "metadata": {},
   "outputs": [
    {
     "data": {
      "text/plain": [
       "<_ast.Str at 0x7fd8b57ba860>"
      ]
     },
     "execution_count": 32,
     "metadata": {},
     "output_type": "execute_result"
    }
   ],
   "source": [
    "ast.Str('hello')"
   ]
  },
  {
   "cell_type": "markdown",
   "metadata": {},
   "source": [
    "### List of node types:\n",
    "\n",
    "https://greentreesnakes.readthedocs.io/en/latest/nodes.html"
   ]
  },
  {
   "cell_type": "markdown",
   "metadata": {},
   "source": [
    "# Visiting Nodes"
   ]
  },
  {
   "cell_type": "code",
   "execution_count": 74,
   "metadata": {},
   "outputs": [],
   "source": [
    "class FuncLister(ast.NodeVisitor):\n",
    "    def visit_FunctionDef(self, node):\n",
    "        print(node.name)\n",
    "        self.generic_visit(node)\n",
    "        \n",
    "class NameLister(ast.NodeVisitor):\n",
    "    def visit_Name(self, node):\n",
    "        print(node.id)\n",
    "        self.generic_visit(node)"
   ]
  },
  {
   "cell_type": "code",
   "execution_count": 75,
   "metadata": {},
   "outputs": [],
   "source": [
    "f_str = \"def f(a,b): \\n\\\n",
    "\\tdef g():\\n\\\n",
    "\\t\\tprint('Hello world') \\n\\\n",
    "\\treturn a + b \\\n",
    "\""
   ]
  },
  {
   "cell_type": "code",
   "execution_count": 76,
   "metadata": {},
   "outputs": [],
   "source": [
    "tree = ast.parse(f_str)"
   ]
  },
  {
   "cell_type": "code",
   "execution_count": 77,
   "metadata": {},
   "outputs": [
    {
     "name": "stdout",
     "output_type": "stream",
     "text": [
      "f\n",
      "g\n"
     ]
    }
   ],
   "source": [
    "FuncLister().visit(tree)"
   ]
  },
  {
   "cell_type": "code",
   "execution_count": 78,
   "metadata": {},
   "outputs": [
    {
     "name": "stdout",
     "output_type": "stream",
     "text": [
      "print\n",
      "a\n",
      "b\n"
     ]
    }
   ],
   "source": [
    "NameLister().visit(tree)"
   ]
  },
  {
   "cell_type": "code",
   "execution_count": 50,
   "metadata": {},
   "outputs": [],
   "source": [
    "??ast.NodeVisitor"
   ]
  },
  {
   "cell_type": "code",
   "execution_count": 202,
   "metadata": {
    "scrolled": false
   },
   "outputs": [
    {
     "name": "stdout",
     "output_type": "stream",
     "text": [
      "<_ast.Module object at 0x7fd8b5453470>\n",
      "<class '_ast.Module'>\n",
      "<_ast.FunctionDef object at 0x7fd8b54534a8>\n",
      "<class '_ast.FunctionDef'>\n",
      "<_ast.arguments object at 0x7fd8b54534e0>\n",
      "<class '_ast.arguments'>\n",
      "<_ast.FunctionDef object at 0x7fd8b5453588>\n",
      "<class '_ast.FunctionDef'>\n",
      "<_ast.Return object at 0x7fd8b54536d8>\n",
      "<class '_ast.Return'>\n",
      "<_ast.arg object at 0x7fd8b5453518>\n",
      "<class '_ast.arg'>\n",
      "<_ast.arg object at 0x7fd8b5453550>\n",
      "<class '_ast.arg'>\n",
      "<_ast.arguments object at 0x7fd8b54535c0>\n",
      "<class '_ast.arguments'>\n",
      "<_ast.Expr object at 0x7fd8b54535f8>\n",
      "<class '_ast.Expr'>\n",
      "<_ast.BinOp object at 0x7fd8b5453710>\n",
      "<class '_ast.BinOp'>\n",
      "<_ast.Call object at 0x7fd8b5453630>\n",
      "<class '_ast.Call'>\n",
      "<_ast.Name object at 0x7fd8b5453748>\n",
      "<class '_ast.Name'>\n",
      "<_ast.Add object at 0x7fd8c0826dd8>\n",
      "<class '_ast.Add'>\n",
      "<_ast.Name object at 0x7fd8b5453780>\n",
      "<class '_ast.Name'>\n",
      "<_ast.Name object at 0x7fd8b5453668>\n",
      "<class '_ast.Name'>\n",
      "<_ast.Str object at 0x7fd8b54536a0>\n",
      "<class '_ast.Str'>\n",
      "<_ast.Load object at 0x7fd8c0826518>\n",
      "<class '_ast.Load'>\n",
      "<_ast.Load object at 0x7fd8c0826518>\n",
      "<class '_ast.Load'>\n",
      "<_ast.Load object at 0x7fd8c0826518>\n",
      "<class '_ast.Load'>\n"
     ]
    }
   ],
   "source": [
    "#walk over all nodes - in no particular order\n",
    "for node in ast.walk(tree):\n",
    "    print(node)\n",
    "    print(node.__class__)"
   ]
  },
  {
   "cell_type": "code",
   "execution_count": 337,
   "metadata": {},
   "outputs": [
    {
     "name": "stdout",
     "output_type": "stream",
     "text": [
      "<_ast.FunctionDef object at 0x7fd8b54534a8>\n"
     ]
    }
   ],
   "source": [
    "#visit child nodes of a certain node (root in this case)\n",
    "for i in ast.iter_child_nodes(tree):\n",
    "    print(i)"
   ]
  },
  {
   "cell_type": "code",
   "execution_count": 338,
   "metadata": {},
   "outputs": [
    {
     "name": "stdout",
     "output_type": "stream",
     "text": [
      "[<_ast.FunctionDef object at 0x7fd8b54534a8>]\n",
      "1\n",
      "<_ast.FunctionDef object at 0x7fd8b54534a8>\n",
      "f\n",
      "[<_ast.FunctionDef object at 0x7fd8b5453588>, <_ast.Return object at 0x7fd8b54536d8>]\n",
      "g\n",
      "[<_ast.Expr object at 0x7fd8b54535f8>]\n",
      "<_ast.Call object at 0x7fd8b5453630>\n",
      "print\n",
      "[<_ast.Str object at 0x7fd8b54536a0>]\n",
      "Hello world\n",
      "<_ast.BinOp object at 0x7fd8b5453710>\n",
      "a\n",
      "b\n",
      "<_ast.Add object at 0x7fd8c0826dd8>\n"
     ]
    }
   ],
   "source": [
    "#manually go down the tree\n",
    "print(tree.body)\n",
    "print(len(tree.body))\n",
    "print(tree.body[0])\n",
    "print(tree.body[0].name)\n",
    "print(tree.body[0].body)\n",
    "print(tree.body[0].body[0].name)\n",
    "print(tree.body[0].body[0].body)\n",
    "print(tree.body[0].body[0].body[0].value)\n",
    "print(tree.body[0].body[0].body[0].value.func.id)\n",
    "print(tree.body[0].body[0].body[0].value.args)\n",
    "print(tree.body[0].body[0].body[0].value.args[0].s)\n",
    "\n",
    "print(tree.body[0].body[1].value)\n",
    "print(tree.body[0].body[1].value.left.id)\n",
    "print(tree.body[0].body[1].value.right.id)\n",
    "print(tree.body[0].body[1].value.op)"
   ]
  },
  {
   "cell_type": "code",
   "execution_count": 339,
   "metadata": {},
   "outputs": [
    {
     "name": "stdout",
     "output_type": "stream",
     "text": [
      "('name', 'f')\n",
      "('args', <_ast.arguments object at 0x7fd8b54534e0>)\n",
      "('body', [<_ast.FunctionDef object at 0x7fd8b5453588>, <_ast.Return object at 0x7fd8b54536d8>])\n",
      "('decorator_list', [])\n",
      "('returns', None)\n"
     ]
    }
   ],
   "source": [
    "#all fields of a node\n",
    "for i in ast.iter_fields(tree.body[0]):\n",
    "    print(i)"
   ]
  },
  {
   "cell_type": "markdown",
   "metadata": {},
   "source": [
    "# Breadth-first search"
   ]
  },
  {
   "cell_type": "code",
   "execution_count": 341,
   "metadata": {},
   "outputs": [],
   "source": [
    "def bfs(root):\n",
    "    '''tree -> don't need to store visited booleans\n",
    "    '''\n",
    "    nodes_seen = [root]\n",
    "    \n",
    "    current_visit_index = 0\n",
    "    N_nodes = 1\n",
    "    \n",
    "    while current_visit_index != N_nodes:\n",
    "        current_node = nodes_seen[current_visit_index]\n",
    "        current_visit_index += 1\n",
    "        \n",
    "        print(current_node)\n",
    "        \n",
    "        for child in ast.iter_child_nodes(current_node):\n",
    "            nodes_seen.append(child)\n",
    "            N_nodes += 1\n",
    "            \n",
    "#these labels are used to make the tree more readable\n",
    "text_labels = {\n",
    "    ast.Module: lambda x:'ROOT',\n",
    "    ast.FunctionDef: lambda x: x.name,\n",
    "    ast.arguments: lambda x: 'ARGS',\n",
    "    ast.Return: lambda x: 'RETURN',\n",
    "    ast.arg: lambda x: x.arg,\n",
    "    ast.BinOp: lambda x: x.op,\n",
    "    ast.Name: lambda x: x.id,\n",
    "    ast.Call: lambda x: x.func,\n",
    "    ast.Str: lambda x: x.s,\n",
    "    ast.Load: lambda x: 'LOAD',\n",
    "    ast.Store: lambda x: 'STORE',\n",
    "    ast.Del: lambda x: 'DEL',\n",
    "    ast.Expr: lambda x: x.value,\n",
    "    ast.Add: lambda x: 'ADD',\n",
    "    ast.Sub: lambda x: 'SUBTRACT',\n",
    "    ast.Mult: lambda x: 'MULT'\n",
    "}\n",
    "\n",
    "\n",
    "def bfs_draw(root):\n",
    "    '''tree -> don't need to store visited booleans\n",
    "    '''\n",
    "    nodes_seen = [root]\n",
    "    \n",
    "    current_visit_index = 0\n",
    "    N_nodes = 1\n",
    "    \n",
    "    tree_nx = nx.DiGraph()\n",
    "    tree_nx.add_node(nodes_seen[current_visit_index]) #add root\n",
    "    \n",
    "    while current_visit_index != N_nodes:\n",
    "        current_node = nodes_seen[current_visit_index]\n",
    "        current_visit_index += 1\n",
    "        \n",
    "        print(current_node)\n",
    "        \n",
    "        for child in ast.iter_child_nodes(current_node):\n",
    "            nodes_seen.append(child)\n",
    "            \n",
    "            #node-specific processing\n",
    "            tree_nx.add_node(child)\n",
    "            tree_nx.add_edge(current_node, child)\n",
    "            \n",
    "            N_nodes += 1\n",
    "    \n",
    "    #rename nodes for more readable names\n",
    "    mapping = {node: text_labels.get(node.__class__)(node) for node in tree_nx.nodes}\n",
    "    tree_nx = nx.relabel_nodes(tree_nx, mapping)\n",
    "            \n",
    "    return tree_nx"
   ]
  },
  {
   "cell_type": "code",
   "execution_count": 342,
   "metadata": {},
   "outputs": [
    {
     "name": "stdout",
     "output_type": "stream",
     "text": [
      "<_ast.Module object at 0x7fd8b5453470>\n",
      "<_ast.FunctionDef object at 0x7fd8b54534a8>\n",
      "<_ast.arguments object at 0x7fd8b54534e0>\n",
      "<_ast.FunctionDef object at 0x7fd8b5453588>\n",
      "<_ast.Return object at 0x7fd8b54536d8>\n",
      "<_ast.arg object at 0x7fd8b5453518>\n",
      "<_ast.arg object at 0x7fd8b5453550>\n",
      "<_ast.arguments object at 0x7fd8b54535c0>\n",
      "<_ast.Expr object at 0x7fd8b54535f8>\n",
      "<_ast.BinOp object at 0x7fd8b5453710>\n",
      "<_ast.Call object at 0x7fd8b5453630>\n",
      "<_ast.Name object at 0x7fd8b5453748>\n",
      "<_ast.Add object at 0x7fd8c0826dd8>\n",
      "<_ast.Name object at 0x7fd8b5453780>\n",
      "<_ast.Name object at 0x7fd8b5453668>\n",
      "<_ast.Str object at 0x7fd8b54536a0>\n",
      "<_ast.Load object at 0x7fd8c0826518>\n",
      "<_ast.Load object at 0x7fd8c0826518>\n",
      "<_ast.Load object at 0x7fd8c0826518>\n"
     ]
    }
   ],
   "source": [
    "bfs(tree)"
   ]
  },
  {
   "cell_type": "code",
   "execution_count": 343,
   "metadata": {},
   "outputs": [
    {
     "name": "stdout",
     "output_type": "stream",
     "text": [
      "<_ast.Module object at 0x7fd8b5453470>\n",
      "<_ast.FunctionDef object at 0x7fd8b54534a8>\n",
      "<_ast.arguments object at 0x7fd8b54534e0>\n",
      "<_ast.FunctionDef object at 0x7fd8b5453588>\n",
      "<_ast.Return object at 0x7fd8b54536d8>\n",
      "<_ast.arg object at 0x7fd8b5453518>\n",
      "<_ast.arg object at 0x7fd8b5453550>\n",
      "<_ast.arguments object at 0x7fd8b54535c0>\n",
      "<_ast.Expr object at 0x7fd8b54535f8>\n",
      "<_ast.BinOp object at 0x7fd8b5453710>\n",
      "<_ast.Call object at 0x7fd8b5453630>\n",
      "<_ast.Name object at 0x7fd8b5453748>\n",
      "<_ast.Add object at 0x7fd8c0826dd8>\n",
      "<_ast.Name object at 0x7fd8b5453780>\n",
      "<_ast.Name object at 0x7fd8b5453668>\n",
      "<_ast.Str object at 0x7fd8b54536a0>\n",
      "<_ast.Load object at 0x7fd8c0826518>\n",
      "<_ast.Load object at 0x7fd8c0826518>\n",
      "<_ast.Load object at 0x7fd8c0826518>\n"
     ]
    }
   ],
   "source": [
    "tree_nx = bfs_draw(tree)"
   ]
  },
  {
   "cell_type": "code",
   "execution_count": 344,
   "metadata": {},
   "outputs": [
    {
     "data": {
      "image/png": "[encoded data removed]",
      "text/plain": [
       "<Figure size 720x720 with 1 Axes>"
      ]
     },
     "metadata": {},
     "output_type": "display_data"
    }
   ],
   "source": [
    "# same layout using matplotlib with no labels\n",
    "fig = plt.figure(figsize=(10,10))\n",
    "pos = graphviz_layout(tree_nx, prog='dot')\n",
    "nx.draw(tree_nx, pos, with_labels=True, arrows=True, node_size=600, font_size=10)"
   ]
  },
  {
   "cell_type": "code",
   "execution_count": null,
   "metadata": {},
   "outputs": [],
   "source": []
  }
 ],
 "metadata": {
  "kernelspec": {
   "display_name": "Python 3",
   "language": "python",
   "name": "python3"
  },
  "language_info": {
   "codemirror_mode": {
    "name": "ipython",
    "version": 3
   },
   "file_extension": ".py",
   "mimetype": "text/x-python",
   "name": "python",
   "nbconvert_exporter": "python",
   "pygments_lexer": "ipython3",
   "version": "3.7.3"
  }
 },
 "nbformat": 4,
 "nbformat_minor": 2
}
